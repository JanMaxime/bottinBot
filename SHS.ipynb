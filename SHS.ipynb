{
 "cells": [
  {
   "cell_type": "code",
   "execution_count": 1,
   "metadata": {},
   "outputs": [],
   "source": [
    "import pandas as pd\n",
    "import numpy as np"
   ]
  },
  {
   "cell_type": "code",
   "execution_count": 2,
   "metadata": {},
   "outputs": [],
   "source": [
    "from pywikiapi import Site\n",
    "\n",
    "site = Site('http://wikipast.epfl.ch/wikipast/api.php') # Définition de l'adresse de l'API\n",
    "site.no_ssl = True # Désactivation du https, car pas activé sur wikipast\n",
    "site.login(\"MaximeJan@BottinBot3\", \"nngrqgt0bmo53ogbtie45jjgem7g0tnv\") # Login du bot\n"
   ]
  },
  {
   "cell_type": "code",
   "execution_count": 3,
   "metadata": {},
   "outputs": [],
   "source": [
    "import pandas as pd\n",
    "\n",
    "from IPython.display import display\n",
    "from urllib.parse import quote\n",
    "\n",
    "doc2start = {\"bpt6k63243601\": 123, \"bpt6k62931221\": 151, \"bpt6k6286466w\": 189, \"bpt6k6393838j\": 219, \"bpt6k6331310g\": 216, \"bpt6k6292987t\": 353, \"bpt6k62906378\": 288, \"bpt6k6391515w\": 319, \"bpt6k6315927h\": 349, \"bpt6k6319106t\": 324, \"bpt6k6315985z\": 82, \"bpt6k63959929\": 82, \"bpt6k63197984\": 56, \"bpt6k6389871r\": 77, \"bpt6k6319811j\": 79, \"bpt6k6282019m\": 72, \"bpt6k6314752k\": 190, \"bpt6k6305463c\": 113, \"bpt6k6318531z\": 108, \"bpt6k6324389h\": 72, \"bpt6k63243920\": 80, \"bpt6k6309075f\": 96, \"bpt6k6333200c\": 132, \"bpt6k63243905\": 134, \"bpt6k6333170p\": 137, \"bpt6k96727875\": 135, \"bpt6k9764746t\": 99, \"bpt6k97645375\": 123, \"bpt6k9672117f\": 125, \"bpt6k9763554c\": 123, \"bpt6k9763553z\": 105, \"bpt6k9677392n\": 110, \"bpt6k9692809v\": 113, \"bpt6k9762929c\": 129, \"bpt6k9672776c\": 119, \"bpt6k9764647w\": 121, \"bpt6k9669143t\": 145, \"bpt6k9677737t\": 139, \"bpt6k9668037f\": 167, \"bpt6k96839542\": 171, \"bpt6k96762564\": 185, \"bpt6k9685861g\": 189, \"bpt6k9763471j\": 153, \"bpt6k9762899p\": 157, \"bpt6k97630871\": 11, \"bpt6k9684454n\": 235, \"bpt6k9732740w\": 239, \"bpt6k9684013b\": 189, \"bpt6k9692626p\": 305, \"bpt6k9685098r\": 281, \"bpt6k9764402m\": 329, \"bpt6k97631451\": 322, \"bpt6k9776121t\": 49, \"bpt6k9775724t\": 33, \"bpt6k97774838\": 327, \"bpt6k9780089g\": 339}\n",
    "\n",
    "def entry2url(row):\n",
    "    \"\"\"\n",
    "    Takes a row of an Annuaire csv and\n",
    "    transforms it to the corresponding Gallica url\n",
    "    \"\"\"\n",
    "    url = \"https://gallica.bnf.fr/ark:/12148/\"\n",
    "    \n",
    "    directory = row['directory']\n",
    "    page = row['page'] - doc2start[directory]\n",
    "    url += f\"{row['directory']}/f{row['page']-doc2start[row['directory']]}\"\n",
    "    \n",
    "    r_strings = []\n",
    "    if 'name' in row and pd.notna(row['name']):\n",
    "        r_strings.append(quote(row['name'].replace('.', ' ')))\n",
    "    if 'job' in row and pd.notna(row['job']):\n",
    "        r_strings.append(quote(row['job'].replace('.', ' ')))\n",
    "    if 'street' in row and pd.notna(row['street']):\n",
    "        r_strings.append(quote(row['street'].replace('.', ' ')))\n",
    "    if 'number' in row and pd.notna(row['number']):\n",
    "        r_strings.append(quote(row['number'].replace('.', ' ')))\n",
    "    \n",
    "    if len(r_strings) > 0:\n",
    "        url += f\".item.r={'%20'.join(r_strings)}.zoom\"\n",
    "    \n",
    "    return url\n",
    "\n",
    "def add_clickable_url(bottin_dataframe):\n",
    "    bottin_dataframe = bottin_dataframe.copy()\n",
    "    bottin_dataframe['url'] = bottin_dataframe.apply(entry2url, axis=1)\n",
    "    def make_clickable(val):\n",
    "        return val\n",
    "\n",
    "    return bottin_dataframe"
   ]
  },
  {
   "cell_type": "code",
   "execution_count": 4,
   "metadata": {},
   "outputs": [],
   "source": [
    "data_bottin = pd.read_csv('./bottin_data_groupe_3.zip')"
   ]
  },
  {
   "cell_type": "code",
   "execution_count": 5,
   "metadata": {},
   "outputs": [],
   "source": [
    "year1857 = data_bottin[data_bottin['year'] == 1857]\n",
    "year1858 = data_bottin[data_bottin['year'] == 1858]\n",
    "year1859 = data_bottin[data_bottin['year'] == 1859]\n",
    "year1860 = data_bottin[data_bottin['year'] == 1860]\n",
    "year1861 = data_bottin[data_bottin['year'] == 1861]\n",
    "year1862 = data_bottin[data_bottin['year'] == 1862]\n",
    "year1863 = data_bottin[data_bottin['year'] == 1863]\n",
    "year1864 = data_bottin[data_bottin['year'] == 1864]"
   ]
  },
  {
   "cell_type": "code",
   "execution_count": 6,
   "metadata": {},
   "outputs": [],
   "source": [
    "def compare(year1,year2):\n",
    "    data = pd.DataFrame()\n",
    "    for i in range(len(year1)):\n",
    "        name, job, street, street_nb = year1857.loc[i,['name','job','street_clean', 'number']]\n",
    "        x = year2[year2.name == name][year2.job == job]\n",
    "        if(not(x.empty)):\n",
    "            data = data.append(x)\n",
    "    \n",
    "    return data"
   ]
  },
  {
   "cell_type": "code",
   "execution_count": 7,
   "metadata": {},
   "outputs": [
    {
     "data": {
      "text/plain": [
       "'sameData = compare(year1857,year1858)'"
      ]
     },
     "execution_count": 7,
     "metadata": {},
     "output_type": "execute_result"
    }
   ],
   "source": [
    "\"\"\"sameData = compare(year1857,year1858)\"\"\""
   ]
  },
  {
   "cell_type": "code",
   "execution_count": 8,
   "metadata": {},
   "outputs": [
    {
     "name": "stderr",
     "output_type": "stream",
     "text": [
      "C:\\ProgramData\\Anaconda3\\lib\\site-packages\\ipykernel_launcher.py:3: UserWarning: Boolean Series key will be reindexed to match DataFrame index.\n",
      "  This is separate from the ipykernel package so we can avoid doing imports until\n",
      "C:\\ProgramData\\Anaconda3\\lib\\site-packages\\ipykernel_launcher.py:7: UserWarning: Boolean Series key will be reindexed to match DataFrame index.\n",
      "  import sys\n"
     ]
    },
    {
     "data": {
      "text/html": [
       "<div>\n",
       "<style scoped>\n",
       "    .dataframe tbody tr th:only-of-type {\n",
       "        vertical-align: middle;\n",
       "    }\n",
       "\n",
       "    .dataframe tbody tr th {\n",
       "        vertical-align: top;\n",
       "    }\n",
       "\n",
       "    .dataframe thead th {\n",
       "        text-align: right;\n",
       "    }\n",
       "</style>\n",
       "<table border=\"1\" class=\"dataframe\">\n",
       "  <thead>\n",
       "    <tr style=\"text-align: right;\">\n",
       "      <th></th>\n",
       "      <th>directory</th>\n",
       "      <th>page</th>\n",
       "      <th>row</th>\n",
       "      <th>year</th>\n",
       "      <th>name</th>\n",
       "      <th>job</th>\n",
       "      <th>street</th>\n",
       "      <th>number</th>\n",
       "      <th>street_clean</th>\n",
       "      <th>street_only</th>\n",
       "    </tr>\n",
       "  </thead>\n",
       "  <tbody>\n",
       "    <tr>\n",
       "      <th>133152</th>\n",
       "      <td>bpt6k6318531z</td>\n",
       "      <td>216</td>\n",
       "      <td>0</td>\n",
       "      <td>1858</td>\n",
       "      <td>Aaron</td>\n",
       "      <td>bronzes</td>\n",
       "      <td>passage Choiseal</td>\n",
       "      <td>72 et 74.</td>\n",
       "      <td>passage Choiseal</td>\n",
       "      <td>Choiseal</td>\n",
       "    </tr>\n",
       "    <tr>\n",
       "      <th>133153</th>\n",
       "      <td>bpt6k6318531z</td>\n",
       "      <td>216</td>\n",
       "      <td>1</td>\n",
       "      <td>1858</td>\n",
       "      <td>Aaron (Michel)</td>\n",
       "      <td>manuf. de porcelaines</td>\n",
       "      <td>Bondy</td>\n",
       "      <td>30.</td>\n",
       "      <td>Bondy</td>\n",
       "      <td>Bondy</td>\n",
       "    </tr>\n",
       "  </tbody>\n",
       "</table>\n",
       "</div>"
      ],
      "text/plain": [
       "            directory  page  row  year            name                    job  \\\n",
       "133152  bpt6k6318531z   216    0  1858           Aaron                bronzes   \n",
       "133153  bpt6k6318531z   216    1  1858  Aaron (Michel)  manuf. de porcelaines   \n",
       "\n",
       "                  street     number      street_clean street_only  \n",
       "133152  passage Choiseal  72 et 74.  passage Choiseal    Choiseal  \n",
       "133153             Bondy        30.             Bondy       Bondy  "
      ]
     },
     "execution_count": 8,
     "metadata": {},
     "output_type": "execute_result"
    }
   ],
   "source": [
    "name, job, street, street_nb = year1857.loc[0,['name','job','street_clean', 'number']]\n",
    "data = pd.DataFrame()\n",
    "x = year1858[year1858.name == name][year1858.job == job]\n",
    "\n",
    "data = data.append(x)\n",
    "name, job, street, street_nb = year1857.loc[1,['name','job','street_clean', 'number']]\n",
    "x = year1858[year1858.name == name][year1858.job == job]\n",
    "data.append(x)"
   ]
  },
  {
   "cell_type": "code",
   "execution_count": 70,
   "metadata": {},
   "outputs": [],
   "source": [
    "def add(data):\n",
    "    for i in range(len(data)):\n",
    "        name, job, street, street_nb, url = data.loc[i,['name','job','street_clean', 'number', 'url']]\n",
    "        try:\n",
    "            titre = f'Bottin_Bot_{name}'\n",
    "            entry = f'*[[1857]] / Paris, {street} {street_nb} Mention de {name} comme {job} [{url}]'\n",
    "            site('edit', title=titre,\n",
    "             text=entry,\n",
    "             token=site.token())\n",
    "        except:\n",
    "            print(f\"Problème dans l'ajout de l'entrée à cause du nom {name}\")"
   ]
  },
  {
   "cell_type": "code",
   "execution_count": 182,
   "metadata": {},
   "outputs": [],
   "source": [
    "sameData.to_csv(r'C:\\Users\\faile\\Documents\\EPFL\\Cours\\Bachelor\\Semestre_6\\Humanités_Digitales\\sameData1857_1858.csv', index = False)\n"
   ]
  },
  {
   "cell_type": "code",
   "execution_count": 10,
   "metadata": {},
   "outputs": [
    {
     "ename": "NameError",
     "evalue": "name 'sameData' is not defined",
     "output_type": "error",
     "traceback": [
      "\u001b[1;31m---------------------------------------------------------------------------\u001b[0m",
      "\u001b[1;31mNameError\u001b[0m                                 Traceback (most recent call last)",
      "\u001b[1;32m<ipython-input-10-e6ff51438cc2>\u001b[0m in \u001b[0;36m<module>\u001b[1;34m\u001b[0m\n\u001b[1;32m----> 1\u001b[1;33m \u001b[0msameData\u001b[0m\u001b[1;33m\u001b[0m\u001b[1;33m\u001b[0m\u001b[0m\n\u001b[0m",
      "\u001b[1;31mNameError\u001b[0m: name 'sameData' is not defined"
     ]
    }
   ],
   "source": [
    "sameData"
   ]
  },
  {
   "cell_type": "code",
   "execution_count": 7,
   "metadata": {},
   "outputs": [],
   "source": [
    "data_to_add = pd.read_csv('./sameData1857_1858.csv')"
   ]
  },
  {
   "cell_type": "code",
   "execution_count": null,
   "metadata": {},
   "outputs": [],
   "source": [
    "data_to_add = add_clickable_url(data_to_add[:])"
   ]
  },
  {
   "cell_type": "code",
   "execution_count": 69,
   "metadata": {},
   "outputs": [
    {
     "data": {
      "text/html": [
       "<div>\n",
       "<style scoped>\n",
       "    .dataframe tbody tr th:only-of-type {\n",
       "        vertical-align: middle;\n",
       "    }\n",
       "\n",
       "    .dataframe tbody tr th {\n",
       "        vertical-align: top;\n",
       "    }\n",
       "\n",
       "    .dataframe thead th {\n",
       "        text-align: right;\n",
       "    }\n",
       "</style>\n",
       "<table border=\"1\" class=\"dataframe\">\n",
       "  <thead>\n",
       "    <tr style=\"text-align: right;\">\n",
       "      <th></th>\n",
       "      <th>directory</th>\n",
       "      <th>page</th>\n",
       "      <th>row</th>\n",
       "      <th>year</th>\n",
       "      <th>name</th>\n",
       "      <th>job</th>\n",
       "      <th>street</th>\n",
       "      <th>number</th>\n",
       "      <th>street_clean</th>\n",
       "      <th>street_only</th>\n",
       "      <th>url</th>\n",
       "    </tr>\n",
       "  </thead>\n",
       "  <tbody>\n",
       "    <tr>\n",
       "      <th>0</th>\n",
       "      <td>bpt6k6318531z</td>\n",
       "      <td>216</td>\n",
       "      <td>0</td>\n",
       "      <td>1858</td>\n",
       "      <td>Aaron</td>\n",
       "      <td>bronzes</td>\n",
       "      <td>passage Choiseal</td>\n",
       "      <td>72 et 74.</td>\n",
       "      <td>passage Choiseal</td>\n",
       "      <td>Choiseal</td>\n",
       "      <td>https://gallica.bnf.fr/ark:/12148/bpt6k6318531...</td>\n",
       "    </tr>\n",
       "    <tr>\n",
       "      <th>1</th>\n",
       "      <td>bpt6k6318531z</td>\n",
       "      <td>216</td>\n",
       "      <td>1</td>\n",
       "      <td>1858</td>\n",
       "      <td>Aaron (Michel)</td>\n",
       "      <td>manuf. de porcelaines</td>\n",
       "      <td>Bondy</td>\n",
       "      <td>30.</td>\n",
       "      <td>Bondy</td>\n",
       "      <td>Bondy</td>\n",
       "      <td>https://gallica.bnf.fr/ark:/12148/bpt6k6318531...</td>\n",
       "    </tr>\n",
       "    <tr>\n",
       "      <th>2</th>\n",
       "      <td>bpt6k6318531z</td>\n",
       "      <td>216</td>\n",
       "      <td>4</td>\n",
       "      <td>1858</td>\n",
       "      <td>Abadie</td>\n",
       "      <td>architecte</td>\n",
       "      <td>pl. Ve dôme</td>\n",
       "      <td>16.</td>\n",
       "      <td>place Ve dôme</td>\n",
       "      <td>Ve dôme</td>\n",
       "      <td>https://gallica.bnf.fr/ark:/12148/bpt6k6318531...</td>\n",
       "    </tr>\n",
       "    <tr>\n",
       "      <th>3</th>\n",
       "      <td>bpt6k6318531z</td>\n",
       "      <td>216</td>\n",
       "      <td>8</td>\n",
       "      <td>1858</td>\n",
       "      <td>Abat</td>\n",
       "      <td>rentier</td>\n",
       "      <td>Isly</td>\n",
       "      <td>10.</td>\n",
       "      <td>Isly</td>\n",
       "      <td>Isly</td>\n",
       "      <td>https://gallica.bnf.fr/ark:/12148/bpt6k6318531...</td>\n",
       "    </tr>\n",
       "    <tr>\n",
       "      <th>4</th>\n",
       "      <td>bpt6k6318531z</td>\n",
       "      <td>216</td>\n",
       "      <td>15</td>\n",
       "      <td>1858</td>\n",
       "      <td>Abault (Paul)</td>\n",
       "      <td>libraire</td>\n",
       "      <td>Guénegaud</td>\n",
       "      <td>5.</td>\n",
       "      <td>Guénegaud</td>\n",
       "      <td>Guénegaud</td>\n",
       "      <td>https://gallica.bnf.fr/ark:/12148/bpt6k6318531...</td>\n",
       "    </tr>\n",
       "  </tbody>\n",
       "</table>\n",
       "</div>"
      ],
      "text/plain": [
       "       directory  page  row  year            name                    job  \\\n",
       "0  bpt6k6318531z   216    0  1858           Aaron                bronzes   \n",
       "1  bpt6k6318531z   216    1  1858  Aaron (Michel)  manuf. de porcelaines   \n",
       "2  bpt6k6318531z   216    4  1858          Abadie             architecte   \n",
       "3  bpt6k6318531z   216    8  1858            Abat                rentier   \n",
       "4  bpt6k6318531z   216   15  1858   Abault (Paul)               libraire   \n",
       "\n",
       "             street     number      street_clean street_only  \\\n",
       "0  passage Choiseal  72 et 74.  passage Choiseal    Choiseal   \n",
       "1             Bondy        30.             Bondy       Bondy   \n",
       "2       pl. Ve dôme        16.     place Ve dôme     Ve dôme   \n",
       "3              Isly        10.              Isly        Isly   \n",
       "4         Guénegaud         5.         Guénegaud   Guénegaud   \n",
       "\n",
       "                                                 url  \n",
       "0  https://gallica.bnf.fr/ark:/12148/bpt6k6318531...  \n",
       "1  https://gallica.bnf.fr/ark:/12148/bpt6k6318531...  \n",
       "2  https://gallica.bnf.fr/ark:/12148/bpt6k6318531...  \n",
       "3  https://gallica.bnf.fr/ark:/12148/bpt6k6318531...  \n",
       "4  https://gallica.bnf.fr/ark:/12148/bpt6k6318531...  "
      ]
     },
     "execution_count": 69,
     "metadata": {},
     "output_type": "execute_result"
    }
   ],
   "source": [
    "data_to_add"
   ]
  },
  {
   "cell_type": "code",
   "execution_count": null,
   "metadata": {},
   "outputs": [],
   "source": [
    "add(data_to_add)"
   ]
  },
  {
   "cell_type": "code",
   "execution_count": null,
   "metadata": {},
   "outputs": [],
   "source": []
  }
 ],
 "metadata": {
  "kernelspec": {
   "display_name": "Python 3",
   "language": "python",
   "name": "python3"
  },
  "language_info": {
   "codemirror_mode": {
    "name": "ipython",
    "version": 3
   },
   "file_extension": ".py",
   "mimetype": "text/x-python",
   "name": "python",
   "nbconvert_exporter": "python",
   "pygments_lexer": "ipython3",
   "version": "3.7.6"
  }
 },
 "nbformat": 4,
 "nbformat_minor": 4
}
