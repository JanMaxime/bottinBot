{
 "cells": [
  {
   "cell_type": "code",
   "execution_count": 32,
   "metadata": {},
   "outputs": [],
   "source": [
    "import pandas as pd\n",
    "import numpy as np\n",
    "from difflib import SequenceMatcher"
   ]
  },
  {
   "cell_type": "code",
   "execution_count": 33,
   "metadata": {},
   "outputs": [],
   "source": [
    "from pywikiapi import Site\n",
    "\n",
    "site = Site('http://wikipast.epfl.ch/wikipast/api.php') # Définition de l'adresse de l'API\n",
    "site.no_ssl = True # Désactivation du https, car pas activé sur wikipast\n",
    "site.login(\"MaximeJan@BottinBot3\", \"nngrqgt0bmo53ogbtie45jjgem7g0tnv\") # Login du bot\n"
   ]
  },
  {
   "cell_type": "code",
   "execution_count": 13,
   "metadata": {},
   "outputs": [],
   "source": [
    "def similar(a, b):\n",
    "    return SequenceMatcher(None, a, b).ratio()"
   ]
  },
  {
   "cell_type": "code",
   "execution_count": null,
   "metadata": {},
   "outputs": [],
   "source": []
  },
  {
   "cell_type": "code",
   "execution_count": 3,
   "metadata": {},
   "outputs": [],
   "source": [
    "import pandas as pd\n",
    "\n",
    "from IPython.display import display\n",
    "from urllib.parse import quote\n",
    "\n",
    "doc2start = {\"bpt6k63243601\": 123, \"bpt6k62931221\": 151, \"bpt6k6286466w\": 189, \"bpt6k6393838j\": 219, \"bpt6k6331310g\": 216, \"bpt6k6292987t\": 353, \"bpt6k62906378\": 288, \"bpt6k6391515w\": 319, \"bpt6k6315927h\": 349, \"bpt6k6319106t\": 324, \"bpt6k6315985z\": 82, \"bpt6k63959929\": 82, \"bpt6k63197984\": 56, \"bpt6k6389871r\": 77, \"bpt6k6319811j\": 79, \"bpt6k6282019m\": 72, \"bpt6k6314752k\": 190, \"bpt6k6305463c\": 113, \"bpt6k6318531z\": 108, \"bpt6k6324389h\": 72, \"bpt6k63243920\": 80, \"bpt6k6309075f\": 96, \"bpt6k6333200c\": 132, \"bpt6k63243905\": 134, \"bpt6k6333170p\": 137, \"bpt6k96727875\": 135, \"bpt6k9764746t\": 99, \"bpt6k97645375\": 123, \"bpt6k9672117f\": 125, \"bpt6k9763554c\": 123, \"bpt6k9763553z\": 105, \"bpt6k9677392n\": 110, \"bpt6k9692809v\": 113, \"bpt6k9762929c\": 129, \"bpt6k9672776c\": 119, \"bpt6k9764647w\": 121, \"bpt6k9669143t\": 145, \"bpt6k9677737t\": 139, \"bpt6k9668037f\": 167, \"bpt6k96839542\": 171, \"bpt6k96762564\": 185, \"bpt6k9685861g\": 189, \"bpt6k9763471j\": 153, \"bpt6k9762899p\": 157, \"bpt6k97630871\": 11, \"bpt6k9684454n\": 235, \"bpt6k9732740w\": 239, \"bpt6k9684013b\": 189, \"bpt6k9692626p\": 305, \"bpt6k9685098r\": 281, \"bpt6k9764402m\": 329, \"bpt6k97631451\": 322, \"bpt6k9776121t\": 49, \"bpt6k9775724t\": 33, \"bpt6k97774838\": 327, \"bpt6k9780089g\": 339}\n",
    "\n",
    "def entry2url(row):\n",
    "    \"\"\"\n",
    "    Takes a row of an Annuaire csv and\n",
    "    transforms it to the corresponding Gallica url\n",
    "    \"\"\"\n",
    "    url = \"https://gallica.bnf.fr/ark:/12148/\"\n",
    "    \n",
    "    directory = row['directory']\n",
    "    page = row['page'] - doc2start[directory]\n",
    "    url += f\"{row['directory']}/f{row['page']-doc2start[row['directory']]}\"\n",
    "    \n",
    "    r_strings = []\n",
    "    if 'name' in row and pd.notna(row['name']):\n",
    "        r_strings.append(quote(row['name'].replace('.', ' ')))\n",
    "    if 'job' in row and pd.notna(row['job']):\n",
    "        r_strings.append(quote(row['job'].replace('.', ' ')))\n",
    "    if 'street' in row and pd.notna(row['street']):\n",
    "        r_strings.append(quote(row['street'].replace('.', ' ')))\n",
    "    if 'number' in row and pd.notna(row['number']):\n",
    "        r_strings.append(quote(row['number'].replace('.', ' ')))\n",
    "    \n",
    "    if len(r_strings) > 0:\n",
    "        url += f\".item.r={'%20'.join(r_strings)}.zoom\"\n",
    "    \n",
    "    return url\n",
    "\n",
    "def add_clickable_url(bottin_dataframe):\n",
    "    bottin_dataframe = bottin_dataframe.copy()\n",
    "    bottin_dataframe['url'] = bottin_dataframe.apply(entry2url, axis=1)\n",
    "    def make_clickable(val):\n",
    "        return val\n",
    "\n",
    "    return bottin_dataframe"
   ]
  },
  {
   "cell_type": "code",
   "execution_count": 4,
   "metadata": {},
   "outputs": [],
   "source": [
    "data_bottin = pd.read_csv('./bottin_data_groupe_3.zip')\n",
    "data_bottin = add_clickable_url(data_bottin[:])"
   ]
  },
  {
   "cell_type": "code",
   "execution_count": 5,
   "metadata": {},
   "outputs": [],
   "source": [
    "data_per_years = []\n",
    "for year in range(1857, 1865):\n",
    "    data_per_years.append(data_bottin[data_bottin['year'] == year])"
   ]
  },
  {
   "cell_type": "code",
   "execution_count": 38,
   "metadata": {},
   "outputs": [],
   "source": [
    "entries = {}\n",
    "for index, row in data_per_years[0].iterrows():\n",
    "    if row['name'] in entries:\n",
    "        entries[row['name']].append([(str(row['job']), str(row['street_clean'])), [index]])\n",
    "    else:\n",
    "        entries[row['name']] = [[(str(row['job']), str(row['street_clean'])), [index]]]\n",
    "\n",
    "coef = 0.85\n",
    "for i in range(1, len(data_per_years)):\n",
    "    for index, row in data_per_years[i].iterrows():\n",
    "        if row['name'] in entries:\n",
    "            found = False\n",
    "            for person in entries[row['name']]:\n",
    "                if similar(person[0][0],str(row['job'])) >= coef and similar(person[0][1], str(row['street_clean'])) >= coef:\n",
    "                    person[1].append(index)\n",
    "                    found=True\n",
    "                    break\n",
    "                elif similar(person[0][0],str(row['job'])) >= coef or similar(person[0][1], str(row['street_clean'])) >= coef:\n",
    "                    person[0] = (str(row['job']), str(row['street_clean']))\n",
    "                    person[1].append(index)\n",
    "                    found=True\n",
    "                    break\n",
    "            if not found:\n",
    "                entries[row['name']].append([(str(row['job']), str(row['street_clean'])), [index]])\n",
    "        else:\n",
    "            entries[row['name']] = [[(str(row['job']), str(row['street_clean'])), [index]]]"
   ]
  },
  {
   "cell_type": "code",
   "execution_count": 40,
   "metadata": {},
   "outputs": [
    {
     "name": "stdout",
     "output_type": "stream",
     "text": [
      "[[('café de la Redoute', 'Grenelle-SaintHonoré'), [47444]], [('limonadier', 'boulevard Beaumarchais'), [47447, 115747, 530253, 313487]], [('monteur en bronzes', 'Saintonge'), [47448, 180286, 241816, 383918, 115748, 530255, 313489, 455946]], [('rentier', 'Larochefoucauld'), [47450]], [(\"premier commis à la direction de l'enregistr\", 'et du timbre'), [180283, 241813]], [(\"grand café de l'Univers et de la Comédie-Française\", 'Rohan'), [241812]], [('crémier', 'Oratoire-du-Louvre'), [241815]], [('peintre-artiste', 'Sus-Pères'), [383920, 115750, 530257, 313491, 455948]], [('tailleur', 'Madeleine'), [115751, 530258, 313492, 455949]], [('vins en gros', 'Port-de-Bercy'), [115752, 530259, 313493, 455950]], [('greffier au tribunal de lre instance', 'Rivoli'), [313486, 455942]], [('papiers peints', 'Grande-Rue-Passy'), [313490, 455947]], [('fab. de fautenils', 'Keller'), [455941]], [('herboriste', 'Laval'), [455943]], [('médecin', 'Pernelle'), [455945]]]\n"
     ]
    }
   ],
   "source": [
    "print(entries['Ollivier'])"
   ]
  },
  {
   "cell_type": "code",
   "execution_count": 36,
   "metadata": {},
   "outputs": [],
   "source": [
    "for k,v in entries.items():\n",
    "    appearences = []\n",
    "    for appearence in v:\n",
    "        appearences.append(data_bottin.iloc[appearence[1],:])\n",
    "    appearences_data = []\n",
    "\n",
    "    for i in range(len(appearences)):\n",
    "        appearences_data.append([])\n",
    "        for index,row in appearences[i].iterrows():\n",
    "            appearences_data[i].append((row['year'], row['name'], row['job'], row['street_clean'], row['number'], row['url']))\n",
    "        appearences_data[i] = sorted(appearences_data[i])\n",
    "\n",
    "\n",
    "    for i in range(len(appearences_data)):\n",
    "        entry_string = \"\"\n",
    "        for year, name, job, street, nb, url in appearences_data[i]:\n",
    "            entry_string += f'*[[{year}]] / [[Paris]], [[{street}]] {nb} Mention de {name} avec la catégorie {job} [{url}]\\n'\n",
    "        if(len(appearences_data)>1):\n",
    "            title = name + \" \"+job\n",
    "        else:\n",
    "            title = name\n",
    "        try:\n",
    "            site('edit', title=title,\n",
    "             text=entry_string,\n",
    "             token=site.token())\n",
    "        except:\n",
    "            print(f\"Problème dans l'ajout de l'entrée à cause du nom {name}\")\n",
    "    break"
   ]
  },
  {
   "cell_type": "code",
   "execution_count": null,
   "metadata": {},
   "outputs": [],
   "source": []
  }
 ],
 "metadata": {
  "kernelspec": {
   "display_name": "Python 3",
   "language": "python",
   "name": "python3"
  },
  "language_info": {
   "codemirror_mode": {
    "name": "ipython",
    "version": 3
   },
   "file_extension": ".py",
   "mimetype": "text/x-python",
   "name": "python",
   "nbconvert_exporter": "python",
   "pygments_lexer": "ipython3",
   "version": "3.7.6"
  }
 },
 "nbformat": 4,
 "nbformat_minor": 4
}
